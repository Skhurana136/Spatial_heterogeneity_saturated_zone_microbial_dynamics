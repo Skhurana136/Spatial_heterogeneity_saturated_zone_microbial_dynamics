{
 "cells": [
  {
   "cell_type": "markdown",
   "metadata": {},
   "source": [
    "# Inspect time series based on Dat"
   ]
  },
  {
   "cell_type": "code",
   "execution_count": null,
   "metadata": {},
   "outputs": [],
   "source": [
    "#Import required libraries\n",
    "import os\n",
    "import numpy as np\n",
    "import pandas as pd\n",
    "import data_reader.data_processing as proc\n",
    "import matplotlib.pyplot as plt\n",
    "import analyses.saturated_transient as sta\n",
    "import h5py"
   ]
  },
  {
   "cell_type": "markdown",
   "metadata": {},
   "source": [
    "## Generate a time series file (HDF5 format) to store all the data\n",
    "\n",
    "### Data is essentially concentration of reactive species leaving the domain normalized by that in the uniform flow scenario"
   ]
  },
  {
   "cell_type": "code",
   "execution_count": null,
   "metadata": {},
   "outputs": [],
   "source": [
    "sourcedatadir = \"E:/Saturated_flow/EGUGoldschmidtdataset6\"\n",
    "hdf5directory = \"Y:/Home/khurana/4. Publications/Restructuring\"\n",
    "h5file = h5py.File(os.path.join(hdf5directory, \"Paper2\", \"Figurecodes\",\"Temporal_analysis_full.h5\"), mode = 'w')\n",
    "for Reg in reginvest:\n",
    "    basedata = np.load(os.path.join(sourcedatadir, Reg + \"AR_0/NS-AH/NS-AH_df.npy\"))\n",
    "    basevelocity = np.mean(basedata[2, -1, :, :])\n",
    "    for t in imposedtimeseries:\n",
    "        directory = os.path.join(sourecdatadir,Reg + \"AR_\" + t)\n",
    "        print (Reg, t)\n",
    "        for j in Trial:\n",
    "                if ((j == '52' and t == \"5\") or (j == '43' and t == \"1\")):\n",
    "                    pass\n",
    "                else:\n",
    "                    basefile = os.path.join(Reg + \"AR_0\",\"NS-A\"+j,\"NS-A\"+j+\"_df.npy\")\n",
    "                    basedata = np.load(os.path.join(sourcedatadir, basefile))\n",
    "                    baseconcs, flow, heads = sta.calcconcmasstimenew (basedata,0,-1,0,-1, 51, gvarnames, \"Saturated\")\n",
    "                    data = np.load(os.path.join(directory, \"NS-A\"+j,\"NS-A\"+j\"_df.npy\")\n",
    "                    concs, flow, heads = sta.calcconcmasstimenew (data,0,-1,0,-1, 51, gvarnames, \"Saturated\")\n",
    "                    subconcs = concs[1:, -1, :]/baseconcs[-1, -1,:]\n",
    "                    for g in gvarnames:\n",
    "                        h5file.create_dataset(t + \"/\" + Reg + \"/\" + j + \"/\" + g, data=subconcs[:, gvarnames.index(g)])\n",
    "h5file.close()"
   ]
  },
  {
   "cell_type": "markdown",
   "metadata": {},
   "source": [
    "### Identify the time series and categorize in Dat categories from Paper 1 effort"
   ]
  },
  {
   "cell_type": "code",
   "execution_count": null,
   "metadata": {},
   "outputs": [],
   "source": [
    "#Consider time series in terms of Dat.\n",
    "#Sort all the values in Dat\n",
    "data  = pd.read_csv(os.path.join(hdf5directory + \"Paper1\",\"Figurecodes\", \"mass_flux_sensitivity_generalized.csv\"), sep=\"\\t\")\n",
    "gvarnames = [\"DOC\", \"DO\", \"Nitrogen\", \"TOC\"]\n",
    "finaldata = data[data['Chem'].isin (gvarnames)]\n",
    "mymarklist = [\"^\", \"o\", \"s\", \"d\"]\n",
    "reglist = [\"Slow\", \"Medium\", \"Fast\"]\n",
    "colorlist = [\"indianred\", \"g\", \"steelblue\"]\n",
    "\n",
    "finaldata.loc[finaldata[\"PeDa\"] > 40, \"PeDamark\"] = 3\n",
    "finaldata.loc[(finaldata[\"PeDa\"] > 15) & (finaldata[\"PeDa\"] < 40), \"PeDamark\"] = 2\n",
    "finaldata.loc[(finaldata[\"PeDa\"] > 1) & (finaldata[\"PeDa\"] < 15), \"PeDamark\"] = 1\n",
    "finaldata.loc[finaldata[\"PeDa\"] < 1, \"PeDamark\"] = 0\n",
    "labels = {0 : r'$Da_t < 1$',\n",
    "          1 : r'$1 < Da_t < 15$',\n",
    "          2 : r'$15 < Da_t < 40$',\n",
    "          3 : r'$Da_t > 40$'}\n",
    "\n",
    "subfinal = finaldata[[\"Trial\", \"Regime\", \"Chem\", \"Time_series\",\"PeDamark\"]]\n",
    "subfinal['key'] = subfinal.Trial + subfinal.Regime + subfinal.Chem + subfinal.Time_series.astype(str)\n",
    "colorcriteria = subfinal[[\"PeDamark\", \"key\"]].to_dict('records')\n",
    "colorcriteria = dict(zip(subfinal['key'], subfinal['PeDamark']))\n",
    "\n",
    "PeDapalette = {0: \"grey\", 1: \"orange\", 2: \"g\", 3: \"indianred\"}"
   ]
  },
  {
   "cell_type": "markdown",
   "metadata": {},
   "source": [
    "### Generate the time series again, but now categorizing each scenario instead of Regime/Trial/Chemical"
   ]
  },
  {
   "cell_type": "code",
   "execution_count": null,
   "metadata": {},
   "outputs": [],
   "source": [
    "#Load already generated time series\n",
    "hr = h5py.File(os.path.join(hdf5directory + \"Paper2\",\"Figurecodes\",\"Temporal_analysis_full.h5\"), mode = 'r')\n",
    "#Write new time series in a new HDF5 file\n",
    "hw = h5py.File(os.path.join(hdf5directory + \"Paper2\",\"Figurecodes\",\"Temporal_analysis_full_Dat.h5\", mode = 'w')\n",
    "print(hr.keys())\n",
    "\n",
    "for t in imposedtimeseries:\n",
    "    n0=[]\n",
    "    n1=[]\n",
    "    n2=[]\n",
    "    n3=[]\n",
    "    for Reg in reginvest:\n",
    "        if Reg == \"Equal\":\n",
    "            r = \"Medium\"\n",
    "        else:\n",
    "            r = Reg    \n",
    "        for g in gvarnames:\n",
    "            for j in Trial:\n",
    "                if ((j == '52' and t == \"5\") or (j == '43' and t == \"1\")):\n",
    "                    pass\n",
    "                else:                   \n",
    "                    n = hr.get(t + \"/\" + Reg + \"/\" + j + \"/\" + g).value\n",
    "                    if int(colorcriteria[j+r+g+t]) == 0:\n",
    "                        n0.append(n)\n",
    "                    elif int(colorcriteria[j+r+g+t]) == 1: \n",
    "                        n1.append(n)\n",
    "                    elif int(colorcriteria[j+r+g+t]) == 2:\n",
    "                        n2.append(n)\n",
    "                    elif int(colorcriteria[j+r+g+t]) == 3:\n",
    "                        n3.append(n)\n",
    "    for Dat, k in zip([0,1,2,3],[n0, n1, n2, n3]):\n",
    "        df = pd.DataFrame.from_records(k)\n",
    "        #Then take average at each time point\n",
    "        hw.create_dataset(t + \"/Dat\" + str(Dat) + \"/mean/\", data=df.mean())\n",
    "        #Then take minimum at each time point\n",
    "        hw.create_dataset(t + \"/Dat\" + str(Dat) + \"/min/\", data=df.min())\n",
    "        #Then take maximum at each time point\n",
    "        hw.create_dataset(t + \"/Dat\" + str(Dat) + \"/max/\", data=df.max())\n",
    "hr.close()\n",
    "hw.close()"
   ]
  },
  {
   "cell_type": "markdown",
   "metadata": {},
   "source": [
    "## Plot the time series in terms of Dat"
   ]
  },
  {
   "cell_type": "code",
   "execution_count": null,
   "metadata": {},
   "outputs": [],
   "source": [
    "#Characteristic to plot:\n",
    "datafeature = \"mean\"\n",
    "#Load dataset for time series in terms of Dat\n",
    "hr = h5py.File(os.path.join(hdf5directory + \"Paper2\",\"Figurecodes\",\"Temporal_analysis_full_Dat.h5\"), mode = 'r')\n",
    "#Load dataset for base velocity ratio values which will be plotted in the graph\n",
    "basedata = np.load(os.path.join(sourcedatadir, \"SlowAR_0/NS-AH/NS-AH_df.npy\"))\n",
    "basevelocity = np.mean(basedata[2, -1, :, :])\n",
    "fig, ax = plt.subplots(3, 1, figsize = (10,8), sharey = True)\n",
    "for t in imposedtimeseries:\n",
    "    a = ax.flat[imposedtimeseries.index(t)]\n",
    "    a.set_title(\"Time series: T\"+ t, fontsize = 16)\n",
    "    for Dat in [0,1,2,3]:\n",
    "        n = hr.get(t + \"/Dat\" + str(Dat) + \"/\" + datafeature + \"/\").value\n",
    "        print(np.shape(n))\n",
    "        a.plot(n[1:], label = labels[Dat])\n",
    "        #a.plot(np.convolve(n[1:], np.ones((3,))/3,mode = 'valid'), label = Dat)\n",
    "    directory = os.path.join(sourcedatadir, \"SlowAR_\" + t)\n",
    "    for j in [\"37\"]:\n",
    "        a = ax.flat[imposedtimeseries.index(t)]\n",
    "        data = np.load(os.path.join(directory,\"NS-A\"+j,\"NS-A\"+j+\"_df.npy\")\n",
    "        velocity = np.mean(data[2, :, :, :], axis = (-1,-2))/basevelocity\n",
    "        a.plot(np.abs(velocity[1:]), color= \"gray\")\n",
    "a.legend()\n",
    "hr.close()\n",
    "picname = os.path.join(hdf5directory, \"Paper2\",\"Figurecodes\",\"Temporal_analysis_full_data.png\")\n",
    "plt.savefig(picname, dpi = 300, bbox_inches = 'tight', pad_inches = 0.1)"
   ]
  }
 ],
 "metadata": {
  "kernelspec": {
   "display_name": "mlsm",
   "language": "python",
   "name": "mlsm"
  },
  "language_info": {
   "codemirror_mode": {
    "name": "ipython",
    "version": 3
   },
   "file_extension": ".py",
   "mimetype": "text/x-python",
   "name": "python",
   "nbconvert_exporter": "python",
   "pygments_lexer": "ipython3",
   "version": "3.8.5"
  }
 },
 "nbformat": 4,
 "nbformat_minor": 4
}
