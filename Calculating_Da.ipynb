{
 "cells": [
  {
   "cell_type": "markdown",
   "metadata": {},
   "source": [
    "# Calculating Damkohler number for the simulations\n",
    "\n",
    "## Calculate characteristic reaction time scales assuming first order rates\n",
    "## Import residence time data\n",
    "## Calculate Da for 95% loss"
   ]
  },
  {
   "cell_type": "code",
   "execution_count": 2,
   "metadata": {},
   "outputs": [],
   "source": [
    "import os\n",
    "\n",
    "#Import third party libraries\n",
    "import pandas as pd\n",
    "import numpy as np\n",
    "\n",
    "#Import visualization libraries\n",
    "import matplotlib.pyplot as plt\n",
    "import seaborn as sns\n",
    "\n",
    "#Import data science library\n",
    "import data_reader.data_processing as proc\n",
    "import analyses.transient as sta"
   ]
  },
  {
   "cell_type": "code",
   "execution_count": 3,
   "metadata": {},
   "outputs": [],
   "source": [
    "#Load standard values required to navigate through the datasets\n",
    "data_dir = \"E:/Zenodo_spatial_heterogeneity/\"\n",
    "Regimes = [\"Slow\", \"Medium\", \"Fast\"]\n",
    "vels = [0.00038,0.0038,0.038]\n",
    "gw = 1\n",
    "\n",
    "scdict = proc.masterscenarios() #master dictionary of all spatially heterogeneous scenarios that were run\n",
    "ratenames = proc.masterrates(\"saturated\")\n",
    "\n",
    "#Domains\n",
    "Trial = list(t for t,values in scdict.items())\n",
    "#Het = list(values['Het'] for t,values in scdict.items())\n",
    "#Anis = list(values['Anis'] for t,values in scdict.items())\n",
    "\n",
    "#Reactive species of concerns\n",
    "gvarnames = [\"DOC\",\"DO\",\"Ammonium\",\"Nitrate\",\"Nitrogen\",\"TOC\"]"
   ]
  },
  {
   "cell_type": "markdown",
   "metadata": {},
   "source": [
    "### Import residence times/breakthrough times from tracer dataset"
   ]
  },
  {
   "cell_type": "code",
   "execution_count": 4,
   "metadata": {},
   "outputs": [
    {
     "name": "stdout",
     "output_type": "stream",
     "text": [
      "Index(['Trial', 'Variance', 'Anisotropy', 'Domain', 'Regime', 'Time_series',\n",
      "       'Chem', 'massflux_in', 'massflux_out', 'delmassflux', 'reldelmassflux',\n",
      "       'normmassflux', 'Time', 'fraction', 'temporal_normmassflux_base',\n",
      "       'spatial_normmassflux_base', 'temporal_reldelmassflux_base',\n",
      "       'spatial_reldelmassflux_base', 'normmassflux_temporal_fraction',\n",
      "       'normmassflux_spatial_fraction', 'reldelmassflux_temporal_fraction',\n",
      "       'reldelmassflux_spatial_fraction', 'Da63'],\n",
      "      dtype='object')\n",
      "[0]\n",
      "['Slow' 'Medium' 'Fast']\n"
     ]
    }
   ],
   "source": [
    "#chem_path_data = r\"Y:\\Home\\khurana\\4. Publications\\Restructuring\\Paper1\\Figurecodes\\massflux_withbreakthrough_forMartin_v4_complete.csv\"\n",
    "chem_path_data = r\"Y:\\Home\\khurana\\4. Publications\\Restructuring\\Paper1\\Figurecodes\\massflux_comparison_Original_complete_28012021.csv\"#r\"Y:\\Home\\khurana\\4. Publications\\Restructuring\\Paper1\\Figurecodes\\masssflux_comparison_Original_complete.csv\"\n",
    "allchemdata = pd.read_csv(chem_path_data, sep = '\\t')\n",
    "print(allchemdata.columns)\n",
    "allchemdata['Regime'] = allchemdata['Regime'].replace({'Equal':'Medium'})\n",
    "chemdata = allchemdata[allchemdata.Time_series==0]\n",
    "print(chemdata.Time_series.unique())\n",
    "print(chemdata.Regime.unique())"
   ]
  },
  {
   "cell_type": "code",
   "execution_count": 5,
   "metadata": {},
   "outputs": [
    {
     "name": "stdout",
     "output_type": "stream",
     "text": [
      "     Trial      Chem  normmassflux_spatial_fraction\n",
      "0        H       DOC                            1.0\n",
      "1        H        DO                            1.0\n",
      "2        H   Nitrate                            1.0\n",
      "3        H  Ammonium                            1.0\n",
      "4        H  Nitrogen                            1.0\n",
      "5        H       TOC                            1.0\n",
      "1176     H       DOC                            1.0\n",
      "1177     H        DO                            1.0\n",
      "1178     H   Nitrate                            1.0\n",
      "1179     H  Ammonium                            1.0\n",
      "1180     H  Nitrogen                            1.0\n",
      "1181     H       TOC                            1.0\n",
      "2352     H       DOC                            1.0\n",
      "2353     H        DO                            1.0\n",
      "2354     H   Nitrate                            1.0\n",
      "2355     H  Ammonium                            1.0\n",
      "2356     H  Nitrogen                            1.0\n",
      "2357     H       TOC                            1.0\n"
     ]
    }
   ],
   "source": [
    "chemdatah = chemdata[chemdata.Trial==\"H\"]\n",
    "print(chemdatah[[\"Trial\",\"Chem\",\"normmassflux_spatial_fraction\"]])"
   ]
  },
  {
   "cell_type": "markdown",
   "metadata": {},
   "source": [
    "### Calculate pseudo first order reaction rate constant\n",
    "- Load the chemican concentration profile at steady state\n",
    "- Identify distance traveled for 50% normalized removal\n",
    "- Ratio of this normalized removal and corresponding travel time is the reaction rate constant"
   ]
  },
  {
   "cell_type": "code",
   "execution_count": 7,
   "metadata": {},
   "outputs": [
    {
     "name": "stdout",
     "output_type": "stream",
     "text": [
      "Slow\n",
      "Medium\n"
     ]
    },
    {
     "ename": "KeyboardInterrupt",
     "evalue": "",
     "output_type": "error",
     "traceback": [
      "\u001b[1;31m---------------------------------------------------------------------------\u001b[0m",
      "\u001b[1;31mKeyboardInterrupt\u001b[0m                         Traceback (most recent call last)",
      "\u001b[1;32m<ipython-input-7-7117ac8a4c5e>\u001b[0m in \u001b[0;36m<module>\u001b[1;34m\u001b[0m\n\u001b[0;32m      8\u001b[0m     \u001b[1;32mfor\u001b[0m \u001b[0mt\u001b[0m \u001b[1;32min\u001b[0m \u001b[0mTrial\u001b[0m\u001b[1;33m:\u001b[0m\u001b[1;33m\u001b[0m\u001b[1;33m\u001b[0m\u001b[0m\n\u001b[0;32m      9\u001b[0m         \u001b[0mfilename\u001b[0m \u001b[1;33m=\u001b[0m \u001b[0mreg\u001b[0m\u001b[1;33m+\u001b[0m\u001b[1;34m\"AR_0_NS-A\"\u001b[0m\u001b[1;33m+\u001b[0m\u001b[0mt\u001b[0m\u001b[1;33m+\u001b[0m\u001b[1;34m\"_df.npy\"\u001b[0m\u001b[1;33m\u001b[0m\u001b[1;33m\u001b[0m\u001b[0m\n\u001b[1;32m---> 10\u001b[1;33m         \u001b[0mdata\u001b[0m \u001b[1;33m=\u001b[0m \u001b[0mnp\u001b[0m\u001b[1;33m.\u001b[0m\u001b[0mload\u001b[0m\u001b[1;33m(\u001b[0m\u001b[0mos\u001b[0m\u001b[1;33m.\u001b[0m\u001b[0mpath\u001b[0m\u001b[1;33m.\u001b[0m\u001b[0mjoin\u001b[0m\u001b[1;33m(\u001b[0m\u001b[0mdata_dir\u001b[0m\u001b[1;33m,\u001b[0m\u001b[0mfilename\u001b[0m\u001b[1;33m)\u001b[0m\u001b[1;33m)\u001b[0m\u001b[1;33m\u001b[0m\u001b[1;33m\u001b[0m\u001b[0m\n\u001b[0m\u001b[0;32m     11\u001b[0m         \u001b[0mconctime\u001b[0m\u001b[1;33m,\u001b[0m \u001b[0mTotalFlow\u001b[0m\u001b[1;33m,\u001b[0m \u001b[0mHeadinlettime\u001b[0m \u001b[1;33m=\u001b[0m \u001b[0msta\u001b[0m\u001b[1;33m.\u001b[0m\u001b[0mconc_time\u001b[0m \u001b[1;33m(\u001b[0m\u001b[0mdata\u001b[0m\u001b[1;33m,\u001b[0m\u001b[1;36m0\u001b[0m\u001b[1;33m,\u001b[0m\u001b[1;36m50\u001b[0m\u001b[1;33m,\u001b[0m\u001b[1;36m0\u001b[0m\u001b[1;33m,\u001b[0m\u001b[1;36m30\u001b[0m\u001b[1;33m,\u001b[0m \u001b[1;36m51\u001b[0m\u001b[1;33m,\u001b[0m \u001b[0mgvarnames\u001b[0m\u001b[1;33m,\u001b[0m\u001b[1;34m\"Saturated\"\u001b[0m\u001b[1;33m)\u001b[0m\u001b[1;33m\u001b[0m\u001b[1;33m\u001b[0m\u001b[0m\n\u001b[0;32m     12\u001b[0m         \u001b[1;32mfor\u001b[0m \u001b[0mg\u001b[0m \u001b[1;32min\u001b[0m \u001b[0mgvarnames\u001b[0m\u001b[1;33m:\u001b[0m\u001b[1;33m\u001b[0m\u001b[1;33m\u001b[0m\u001b[0m\n",
      "\u001b[1;32m~\\Anaconda3\\envs\\mlsm\\lib\\site-packages\\numpy\\lib\\npyio.py\u001b[0m in \u001b[0;36mload\u001b[1;34m(file, mmap_mode, allow_pickle, fix_imports, encoding)\u001b[0m\n\u001b[0;32m    437\u001b[0m                 \u001b[1;32mreturn\u001b[0m \u001b[0mformat\u001b[0m\u001b[1;33m.\u001b[0m\u001b[0mopen_memmap\u001b[0m\u001b[1;33m(\u001b[0m\u001b[0mfile\u001b[0m\u001b[1;33m,\u001b[0m \u001b[0mmode\u001b[0m\u001b[1;33m=\u001b[0m\u001b[0mmmap_mode\u001b[0m\u001b[1;33m)\u001b[0m\u001b[1;33m\u001b[0m\u001b[1;33m\u001b[0m\u001b[0m\n\u001b[0;32m    438\u001b[0m             \u001b[1;32melse\u001b[0m\u001b[1;33m:\u001b[0m\u001b[1;33m\u001b[0m\u001b[1;33m\u001b[0m\u001b[0m\n\u001b[1;32m--> 439\u001b[1;33m                 return format.read_array(fid, allow_pickle=allow_pickle,\n\u001b[0m\u001b[0;32m    440\u001b[0m                                          pickle_kwargs=pickle_kwargs)\n\u001b[0;32m    441\u001b[0m         \u001b[1;32melse\u001b[0m\u001b[1;33m:\u001b[0m\u001b[1;33m\u001b[0m\u001b[1;33m\u001b[0m\u001b[0m\n",
      "\u001b[1;32m~\\Anaconda3\\envs\\mlsm\\lib\\site-packages\\numpy\\lib\\format.py\u001b[0m in \u001b[0;36mread_array\u001b[1;34m(fp, allow_pickle, pickle_kwargs)\u001b[0m\n\u001b[0;32m    739\u001b[0m         \u001b[1;32mif\u001b[0m \u001b[0misfileobj\u001b[0m\u001b[1;33m(\u001b[0m\u001b[0mfp\u001b[0m\u001b[1;33m)\u001b[0m\u001b[1;33m:\u001b[0m\u001b[1;33m\u001b[0m\u001b[1;33m\u001b[0m\u001b[0m\n\u001b[0;32m    740\u001b[0m             \u001b[1;31m# We can use the fast fromfile() function.\u001b[0m\u001b[1;33m\u001b[0m\u001b[1;33m\u001b[0m\u001b[1;33m\u001b[0m\u001b[0m\n\u001b[1;32m--> 741\u001b[1;33m             \u001b[0marray\u001b[0m \u001b[1;33m=\u001b[0m \u001b[0mnumpy\u001b[0m\u001b[1;33m.\u001b[0m\u001b[0mfromfile\u001b[0m\u001b[1;33m(\u001b[0m\u001b[0mfp\u001b[0m\u001b[1;33m,\u001b[0m \u001b[0mdtype\u001b[0m\u001b[1;33m=\u001b[0m\u001b[0mdtype\u001b[0m\u001b[1;33m,\u001b[0m \u001b[0mcount\u001b[0m\u001b[1;33m=\u001b[0m\u001b[0mcount\u001b[0m\u001b[1;33m)\u001b[0m\u001b[1;33m\u001b[0m\u001b[1;33m\u001b[0m\u001b[0m\n\u001b[0m\u001b[0;32m    742\u001b[0m         \u001b[1;32melse\u001b[0m\u001b[1;33m:\u001b[0m\u001b[1;33m\u001b[0m\u001b[1;33m\u001b[0m\u001b[0m\n\u001b[0;32m    743\u001b[0m             \u001b[1;31m# This is not a real file. We have to read it the\u001b[0m\u001b[1;33m\u001b[0m\u001b[1;33m\u001b[0m\u001b[1;33m\u001b[0m\u001b[0m\n",
      "\u001b[1;31mKeyboardInterrupt\u001b[0m: "
     ]
    }
   ],
   "source": [
    "row = []\n",
    "for r,v,p in zip(Regimes,vels,[2,12,22]):\n",
    "    print(r)\n",
    "    if r==\"Medium\":\n",
    "        reg=\"Equal\"\n",
    "    else:\n",
    "        reg=r\n",
    "    for t in Trial:\n",
    "        filename = reg+\"AR_0_NS-A\"+t+\"_df.npy\"\n",
    "        data = np.load(os.path.join(data_dir,filename))\n",
    "        conctime, TotalFlow, Headinlettime = sta.conc_time (data,0,50,0,30, 51, gvarnames,\"Saturated\")\n",
    "        for g in gvarnames:\n",
    "            idx = gvarnames.index(g)\n",
    "            inletconc = conctime[-1, 0, idx]\n",
    "            outletconc = conctime[-1,-1,idx]\n",
    "            normconc = outletconc/inletconc\n",
    "            row.append([r,v,p,t,g,inletconc, outletconc, normconc])"
   ]
  },
  {
   "cell_type": "code",
   "execution_count": 8,
   "metadata": {},
   "outputs": [],
   "source": [
    "data = pd.DataFrame.from_records(row, columns = [\"Regime\", \"Velocity\", \"Pe\",\"Trial\", \"Chem\", \"Conc_in\", \"Conc_out\", \"Normconc\"])\n",
    "for pe, vel, Reg in zip([2,11,22], vels,Regimes):\n",
    "    for c in gvarnames:\n",
    "        base = data.loc[(data.Regime == Reg) & (data.Chem == c) & (data.Trial == 'H')]['Normconc'].values[0]\n",
    "        data.loc[(data.Regime == Reg) & (data.Chem == c), 'base'] = base\n",
    "data['rel_normconc'] = data.Normconc/data.base"
   ]
  },
  {
   "cell_type": "code",
   "execution_count": 9,
   "metadata": {},
   "outputs": [
    {
     "name": "stdout",
     "output_type": "stream",
     "text": [
      "                        k\n",
      "Regime Chem              \n",
      "Fast   Ammonium  0.068590\n",
      "       DO        1.255664\n",
      "       DOC       0.206500\n",
      "       Nitrate   0.031839\n",
      "       Nitrogen  0.026442\n",
      "       TOC       0.143979\n",
      "Medium Ammonium  0.012170\n",
      "       DO        0.293545\n",
      "       DOC       0.045650\n",
      "       Nitrate   0.050710\n",
      "       Nitrogen  0.036687\n",
      "       TOC       0.029972\n",
      "Slow   Ammonium  0.001206\n",
      "       DO        0.029889\n",
      "       DOC       0.004954\n",
      "       Nitrate   0.007385\n",
      "       Nitrogen  0.004477\n",
      "       TOC       0.001988\n"
     ]
    }
   ],
   "source": [
    "timedata = pd.merge(data, chemdata, on=['Regime','Trial','Chem'])\n",
    "timedata[\"k\"] = -1*np.log(timedata.Normconc)/timedata.Time\n",
    "print(timedata[[\"Regime\", \"Chem\", \"k\"]].groupby([\"Regime\", \"Chem\"]).mean())"
   ]
  },
  {
   "cell_type": "code",
   "execution_count": 10,
   "metadata": {},
   "outputs": [
    {
     "name": "stdout",
     "output_type": "stream",
     "text": [
      "     Regime Trial      Chem         k  reldelmassflux_spatial_fraction  \\\n",
      "0      Slow     H       DOC  0.004378                              1.0   \n",
      "1      Slow     H        DO  0.026612                              1.0   \n",
      "2      Slow     H  Ammonium  0.001076                              1.0   \n",
      "3      Slow     H   Nitrate  0.006698                              1.0   \n",
      "4      Slow     H  Nitrogen  0.004116                              1.0   \n",
      "5      Slow     H       TOC  0.001926                              1.0   \n",
      "294  Medium     H       DOC  0.034932                              1.0   \n",
      "295  Medium     H        DO  0.216597                              1.0   \n",
      "296  Medium     H  Ammonium  0.009028                              1.0   \n",
      "297  Medium     H   Nitrate  0.044971                              1.0   \n",
      "298  Medium     H  Nitrogen  0.031774                              1.0   \n",
      "299  Medium     H       TOC  0.023279                              1.0   \n",
      "588    Fast     H       DOC  0.154048                              1.0   \n",
      "589    Fast     H        DO  1.716536                              1.0   \n",
      "590    Fast     H  Ammonium  0.050623                              1.0   \n",
      "591    Fast     H   Nitrate  0.004719                              1.0   \n",
      "592    Fast     H  Nitrogen  0.004745                              1.0   \n",
      "593    Fast     H       TOC  0.106393                              1.0   \n",
      "\n",
      "     Normconc  rel_normconc  \n",
      "0    0.407628           1.0  \n",
      "1    0.004273           1.0  \n",
      "2    0.802135           1.0  \n",
      "3    0.253301           1.0  \n",
      "4    0.430100           1.0  \n",
      "5    0.673788           1.0  \n",
      "294  0.434993           1.0  \n",
      "295  0.005733           1.0  \n",
      "296  0.806435           1.0  \n",
      "297  0.342442           1.0  \n",
      "298  0.468991           1.0  \n",
      "299  0.574221           1.0  \n",
      "588  0.688700           1.0  \n",
      "589  0.015674           1.0  \n",
      "590  0.884654           1.0  \n",
      "591  0.988640           1.0  \n",
      "592  0.988579           1.0  \n",
      "593  0.772922           1.0  \n"
     ]
    }
   ],
   "source": [
    "datah = timedata[timedata.Trial==\"H\"]\n",
    "print(datah[[\"Regime\", \"Trial\",\"Chem\", \"k\",\"reldelmassflux_spatial_fraction\",\"Normconc\",\"rel_normconc\"]])"
   ]
  },
  {
   "cell_type": "code",
   "execution_count": 11,
   "metadata": {},
   "outputs": [],
   "source": [
    "thresh = 0.05\n",
    "steps = [500 * 0.005, 2 * 0.005, 2 * 0.0005]\n",
    "nc = timedata[timedata[\"Normconc\"] < thresh].index\n",
    "for n in nc:\n",
    "    r = timedata.iloc[n][\"Regime\"]\n",
    "    r = reg\n",
    "    if r==\"Medium\":\n",
    "        reg=\"Equal\"\n",
    "    t = timedata.iloc[n][\"Trial\"]\n",
    "    g = timedata.iloc[n][\"Chem\"]\n",
    "    inletconc = timedata.iloc[n][\"Conc_in\"]\n",
    "    filename = reg+\"AR_0_NS-A\"+t+\"_df.npy\"\n",
    "    concdata = np.load(os.path.join(data_dir,filename))\n",
    "    conctime, TotalFlow, Headinlettime = sta.calcconcmasstimenew (concdata,0,50,0,30, 51, [g],\"Saturated\")        \n",
    "    tracer_dir = \"X:/Saturated_flow/Steady_state/Tracer_studies/\" + Reg + \"AR/NS-A\"+t+\"/\"\n",
    "    tracerfile = \"NS-A\"+t+\"_df.npy\"\n",
    "    tracerdata = np.load(os.path.join(tracer_dir,tracerfile))\n",
    "    tracertime, TracerFlow, TracerHeadinlettime = sta.calcconcmasstimenew (tracerdata,0,50,0,30, 51, [\"Tracer\"],\"Saturated\")            \n",
    "    idx5 = np.where(conctime[-1, :, 0]<thresh*inletconc)[0]\n",
    "    if idx5.size != 0:\n",
    "        point = idx5[0]\n",
    "        loss = conctime[-1, point, 0]/inletconc\n",
    "        timidx = np.where(np.round(tracertime[:, point, 0], 3) > 10)\n",
    "        tim = steps[Regimes.index(r)] * timidx[0][0]\n",
    "        k = -1*np.log(loss)/tim\n",
    "        timedata.iloc[n, timedata.columns.get_loc(\"k\")] = k\n",
    "selected_k = \"k\"\n",
    "timedata[\"tau63\"] = -np.log(0.37)/timedata[selected_k].astype(float)\n",
    "timedata[\"Da63\"] = timedata.Time/timedata.tau63\n",
    "#Squareroot transformation\n",
    "#timedata[\"DaPe63_sqrt\"] = np.sqrt(timedata.Da63/timedata.Pe)\n",
    "#timedata[\"DaPe63_\"] = np.log(timedata.Da63/timedata.Pe)\n",
    "timedata.to_csv(\"Y:/Home/khurana/4. Publications/Restructuring/Paper1/Figurecodes/Da_29012021_95pcloss.csv\")"
   ]
  },
  {
   "cell_type": "markdown",
   "metadata": {},
   "source": [
    "### Consolidate information in a Pandas dataframe and explore the values"
   ]
  },
  {
   "cell_type": "code",
   "execution_count": 12,
   "metadata": {},
   "outputs": [
    {
     "name": "stdout",
     "output_type": "stream",
     "text": [
      "                        k       tau63       Da63\n",
      "Regime Chem                                     \n",
      "Fast   Ammonium  0.068590   16.006598   0.104846\n",
      "       DO        1.221284    0.848096   2.168682\n",
      "       DOC       0.206500    5.294286   0.316920\n",
      "       Nitrate   0.031839   85.939604   0.032582\n",
      "       Nitrogen  0.026442   91.742745   0.027842\n",
      "       TOC       0.143979    7.612739   0.220446\n",
      "Medium Ammonium  0.012170   88.943792   0.205121\n",
      "       DO        0.681773    2.528794  14.101570\n",
      "       DOC       0.045650   23.428317   0.776235\n",
      "       Nitrate   0.050710   20.061720   0.903303\n",
      "       Nitrogen  0.036687   27.855866   0.649858\n",
      "       TOC       0.029972   35.406033   0.512935\n",
      "Slow   Ammonium  0.001206  839.490558   0.220843\n",
      "       DO        0.476941   22.638002  97.586391\n",
      "       DOC       0.004954  204.458610   0.906965\n",
      "       Nitrate   0.007385  136.618195   1.355085\n",
      "       Nitrogen  0.004477  225.478008   0.821497\n",
      "       TOC       0.001988  512.137468   0.364779\n"
     ]
    }
   ],
   "source": [
    "#kdf = pd.DataFrame.from_records(row, columns = [\"Regime\", \"Velocity\", \"Pe\",\"Trial\", \"Chem\", \"loss\", \"tim\", \"k\", \"Flag\"])\n",
    "#kdfnew = pd.merge(timedata, kdf[[\"Regime\", \"Chem\", \"loss\", \"tim\", \"k\", \"Flag\"]], on=['Regime','Chem'])\n",
    "print(timedata[[\"Regime\", \"Chem\", \"k\", \"tau63\", \"Da63\"]].groupby([\"Regime\", \"Chem\"]).mean())"
   ]
  },
  {
   "cell_type": "markdown",
   "metadata": {},
   "source": [
    "### Explore distribution of generated Damkohler numbers"
   ]
  },
  {
   "cell_type": "code",
   "execution_count": 8,
   "metadata": {},
   "outputs": [],
   "source": [
    "#Load data\n",
    "timedata = pd.read_csv(\"Y:/Home/khurana/4. Publications/Restructuring/Paper1/Figurecodes/Da_29012021_95pcloss.csv\")"
   ]
  },
  {
   "cell_type": "code",
   "execution_count": 9,
   "metadata": {},
   "outputs": [
    {
     "name": "stdout",
     "output_type": "stream",
     "text": [
      "['Slow' 'Medium' 'Fast']\n"
     ]
    }
   ],
   "source": [
    "print(timedata.Regime.unique())\n",
    "timedata[\"log10Da\"] = np.log10(timedata.Da63)"
   ]
  },
  {
   "cell_type": "code",
   "execution_count": 10,
   "metadata": {},
   "outputs": [
    {
     "name": "stderr",
     "output_type": "stream",
     "text": [
      "C:\\Users\\khurana\\Anaconda3\\envs\\mlsm\\lib\\site-packages\\seaborn\\distributions.py:2551: FutureWarning: `distplot` is a deprecated function and will be removed in a future version. Please adapt your code to use either `displot` (a figure-level function with similar flexibility) or `histplot` (an axes-level function for histograms).\n",
      "  warnings.warn(msg, FutureWarning)\n"
     ]
    },
    {
     "data": {
      "image/png": "[encoded data removed]",
      "text/plain": [
       "<Figure size 576x864 with 2 Axes>"
      ]
     },
     "metadata": {
      "needs_background": "light"
     },
     "output_type": "display_data"
    }
   ],
   "source": [
    "finaldata = timedata\n",
    "dalist = [\"Da63\"]\n",
    "dapelist = [\"log10Da\"]\n",
    "for da,dape in zip(dalist,dapelist):\n",
    "    fig, (ax1, ax2) = plt.subplots(2, figsize = (8,12))\n",
    "    fig.suptitle(da)#'Distribution of flow and reaction regime indicators', fontsize = 15)\n",
    "    \n",
    "    sns.distplot(finaldata[finaldata[\"Regime\"] == \"Slow\"][da], color = \"indianred\", label = \"Slow flow\", kde = False, bins = 20, ax = ax1)\n",
    "    sns.distplot(finaldata[finaldata[\"Regime\"] == \"Medium\"][da], color = \"g\", label = \"Medium flow\", kde = False, bins = 20, ax = ax1)\n",
    "    sns.distplot(finaldata[finaldata[\"Regime\"] == \"Fast\"][da], color = \"steelblue\", label = \"Fast flow\", kde = False, bins = 20, ax = ax1)\n",
    "    ax1.tick_params(labelsize = 12)\n",
    "    ax1.set_xlabel (da, fontsize = 15)\n",
    "    ax1.set_ylabel (\"Number of scenarios\", fontsize = 15)\n",
    "    ax1.set_title (\"(a) Distribution of Damk$\\ddot{o}$hler numbers\", fontsize = 15)\n",
    "    \n",
    "    sns.distplot(finaldata[finaldata[\"Regime\"] == \"Slow\"][dape], color = \"indianred\", label = \"Slow flow\", kde = False, bins = 20, ax = ax2)\n",
    "    sns.distplot(finaldata[finaldata[\"Regime\"] == \"Medium\"][dape], color = \"g\", label = \"Medium flow\", kde = False, bins = 20, ax = ax2)\n",
    "    sns.distplot(finaldata[finaldata[\"Regime\"] == \"Fast\"][dape], color = \"steelblue\", label = \"Fast flow\", kde = False, bins = 20, ax = ax2)\n",
    "    ax2.tick_params(labelsize = 12)\n",
    "    ax2.set_xlabel (dape, fontsize = 15)\n",
    "    ax2.set_ylabel (\"Number of scenarios\", fontsize = 15)\n",
    "    ax2.set_title (\"(b) Distribution of ratio of Peclet and Damk$\\ddot{o}$hler numbers\", fontsize = 15)\n",
    "    plt.legend(fontsize = 12)\n",
    "    plt.subplots_adjust(top=0.92)"
   ]
  },
  {
   "cell_type": "code",
   "execution_count": 23,
   "metadata": {},
   "outputs": [
    {
     "name": "stderr",
     "output_type": "stream",
     "text": [
      "<ipython-input-23-776d5073b675>:7: MatplotlibDeprecationWarning: Case-insensitive properties were deprecated in 3.3 and support will be removed two minor releases later\n",
      "  amm = mlines.Line2D([], [], Linestyle = 'None', marker = 'o', alpha = 0.5, label=\"Ammonium\")\n",
      "<ipython-input-23-776d5073b675>:8: MatplotlibDeprecationWarning: Case-insensitive properties were deprecated in 3.3 and support will be removed two minor releases later\n",
      "  do = mlines.Line2D([], [], Linestyle = 'None', marker = '^', alpha = 0.5, label=\"DO\")\n",
      "<ipython-input-23-776d5073b675>:9: MatplotlibDeprecationWarning: Case-insensitive properties were deprecated in 3.3 and support will be removed two minor releases later\n",
      "  nitra = mlines.Line2D([], [], Linestyle = 'None', marker = 's', alpha = 0.5, label=\"Nitrate\")\n"
     ]
    },
    {
     "data": {
      "text/plain": [
       "Text(0, 0.5, 'Impact on O, N removal (%)')"
      ]
     },
     "execution_count": 23,
     "metadata": {},
     "output_type": "execute_result"
    },
    {
     "data": {
      "image/png": "[encoded data removed]",
      "text/plain": [
       "<Figure size 432x288 with 1 Axes>"
      ]
     },
     "metadata": {
      "needs_background": "light"
     },
     "output_type": "display_data"
    }
   ],
   "source": [
    "# Figure7 Removal of reactive species with damkohler number and Pe number\n",
    "import matplotlib.patches as mpatches\n",
    "import matplotlib.lines as mlines\n",
    "red_patch = mpatches.Patch(color=\"indianred\", alpha = 0.5, label=\"2\")\n",
    "green_patch = mpatches.Patch(color=\"g\", alpha = 0.5, label=\"11\")\n",
    "blue_patch = mpatches.Patch(color=\"steelblue\", alpha = 0.5, label=\"22\")\n",
    "amm = mlines.Line2D([], [], Linestyle = 'None', marker = 'o', alpha = 0.5, label=\"Ammonium\")\n",
    "do = mlines.Line2D([], [], Linestyle = 'None', marker = '^', alpha = 0.5, label=\"DO\")\n",
    "nitra = mlines.Line2D([], [], Linestyle = 'None', marker = 's', alpha = 0.5, label=\"Nitrate\")\n",
    "patchlist = [red_patch, green_patch, blue_patch, do, amm, nitra]\n",
    "my_pal = {2:\"indianred\", 11:\"g\", 22:\"steelblue\",\n",
    "         \"Slow\":\"indianred\", \"Medium\":\"g\", \"Fast\":\"steelblue\"}\n",
    "my_mark = {\"Ammonium\":\"o\", \"DO\":\"^\", \"Nitrate\":\"s\",\"DOC\":\"d\", \"Nitrogen\":\"s\",\"TOC\":\"d\"}\n",
    "\n",
    "finaldata = timedata\n",
    "plt.figure()\n",
    "for c in [\"TOC\", \"DO\", \"Nitrogen\"]:\n",
    "    for p in Regimes:\n",
    "        data = finaldata[(finaldata['Regime']==p) & (finaldata['Chem']==c)]\n",
    "        plt.scatter(data['log10Da'],data['reldelmassflux_spatial_fraction'], color = my_pal[p], marker = my_mark[c], alpha = 0.7)\n",
    "#plt.xscale('log')\n",
    "#plt.yscale('log')\n",
    "plt.xlim(right = 1)\n",
    "#plt.ylim(top = 8)\n",
    "plt.xlabel (\"Dammkohler number\")\n",
    "plt.ylabel (\"Impact on O, N removal (%)\")"
   ]
  },
  {
   "cell_type": "code",
   "execution_count": 16,
   "metadata": {
    "scrolled": true
   },
   "outputs": [
    {
     "name": "stderr",
     "output_type": "stream",
     "text": [
      "C:\\Users\\khurana\\Anaconda3\\envs\\mlsm\\lib\\site-packages\\pandas\\core\\indexing.py:1596: SettingWithCopyWarning: \n",
      "A value is trying to be set on a copy of a slice from a DataFrame.\n",
      "Try using .loc[row_indexer,col_indexer] = value instead\n",
      "\n",
      "See the caveats in the documentation: https://pandas.pydata.org/pandas-docs/stable/user_guide/indexing.html#returning-a-view-versus-a-copy\n",
      "  self.obj[key] = _infer_fill_value(value)\n",
      "C:\\Users\\khurana\\Anaconda3\\envs\\mlsm\\lib\\site-packages\\pandas\\core\\indexing.py:1765: SettingWithCopyWarning: \n",
      "A value is trying to be set on a copy of a slice from a DataFrame.\n",
      "Try using .loc[row_indexer,col_indexer] = value instead\n",
      "\n",
      "See the caveats in the documentation: https://pandas.pydata.org/pandas-docs/stable/user_guide/indexing.html#returning-a-view-versus-a-copy\n",
      "  isetter(loc, value)\n",
      "C:\\Users\\khurana\\Anaconda3\\envs\\mlsm\\lib\\site-packages\\pandas\\core\\indexing.py:1765: SettingWithCopyWarning: \n",
      "A value is trying to be set on a copy of a slice from a DataFrame.\n",
      "Try using .loc[row_indexer,col_indexer] = value instead\n",
      "\n",
      "See the caveats in the documentation: https://pandas.pydata.org/pandas-docs/stable/user_guide/indexing.html#returning-a-view-versus-a-copy\n",
      "  isetter(loc, value)\n",
      "C:\\Users\\khurana\\Anaconda3\\envs\\mlsm\\lib\\site-packages\\pandas\\core\\indexing.py:1765: SettingWithCopyWarning: \n",
      "A value is trying to be set on a copy of a slice from a DataFrame.\n",
      "Try using .loc[row_indexer,col_indexer] = value instead\n",
      "\n",
      "See the caveats in the documentation: https://pandas.pydata.org/pandas-docs/stable/user_guide/indexing.html#returning-a-view-versus-a-copy\n",
      "  isetter(loc, value)\n",
      "C:\\Users\\khurana\\Anaconda3\\envs\\mlsm\\lib\\site-packages\\pandas\\core\\indexing.py:1765: SettingWithCopyWarning: \n",
      "A value is trying to be set on a copy of a slice from a DataFrame.\n",
      "Try using .loc[row_indexer,col_indexer] = value instead\n",
      "\n",
      "See the caveats in the documentation: https://pandas.pydata.org/pandas-docs/stable/user_guide/indexing.html#returning-a-view-versus-a-copy\n",
      "  isetter(loc, value)\n"
     ]
    },
    {
     "data": {
      "text/plain": [
       "<matplotlib.legend.Legend at 0x26039be6f70>"
      ]
     },
     "execution_count": 16,
     "metadata": {},
     "output_type": "execute_result"
    },
    {
     "data": {
      "image/png": "[encoded data removed]",
      "text/plain": [
       "<Figure size 720x288 with 2 Axes>"
      ]
     },
     "metadata": {
      "needs_background": "light"
     },
     "output_type": "display_data"
    }
   ],
   "source": [
    "#Log transformation of Da/Pe. Skip ahead if you are looking for log transformation of Pe/Da\n",
    "dapechems = [\"DO\", \"Nitrogen\",\"TOC\"]\n",
    "chemdata = timedata[timedata['Chem'].isin (dapechems)]\n",
    "#chemdata = timedata\n",
    "mymarklist = [\"^\", \"o\", \"s\", \"d\"]\n",
    "\n",
    "#For log10 tranformation:\n",
    "chemdata.loc[chemdata[\"log10Da\"] > 0.5, \"PeDamark\"] = 3\n",
    "chemdata.loc[(chemdata[\"log10Da\"] > 0) & (chemdata[\"log10Da\"] <0.5), \"PeDamark\"] = 2\n",
    "chemdata.loc[(chemdata[\"log10Da\"] > -1) & (chemdata[\"log10Da\"] < 0), \"PeDamark\"] = 1\n",
    "chemdata.loc[(chemdata[\"log10Da\"] < -1), \"PeDamark\"] = 0\n",
    "labels = {3 : \"logDa > 0.5\",\n",
    "          2 : \"0 < logDa < 0.5\",\n",
    "          1 : \"-1 < logDa < 0\",\n",
    "         0 : \"logDa < -1\"}\n",
    "\n",
    "fig, (ax1, ax2) = plt.subplots(1,2, figsize = (10,4), sharey = True)\n",
    "fig.suptitle('Impact on flow and reaction regime indicators', fontsize = 15)\n",
    "\n",
    "for frac in [0,1,2,3]:\n",
    "    data = chemdata[chemdata[\"PeDamark\"] == frac]\n",
    "    ax1.scatter(data[\"log10Da\"], data[\"reldelmassflux_spatial_fraction\"], marker = mymarklist[frac], label = labels[frac], alpha = 0.5)\n",
    "    ax2.scatter(data[\"fraction\"], data[\"reldelmassflux_spatial_fraction\"], marker = mymarklist[frac], label = labels[frac], alpha = 0.5)\n",
    "#ax1.set_xscale(\"log\")\n",
    "ax1.set_xlabel (\"(a) ln(Da/Pe)\", fontsize = 15)\n",
    "ax2.set_xlabel (\"(b) fraction of breakthrough time\", fontsize = 15)\n",
    "ax1.set_ylabel (\"Impact on O, Nitrogen \\nand TOC removal\", fontsize = 15)\n",
    "#ax1.set_xlim(left = -5)\n",
    "plt.tick_params(labelsize = 12)\n",
    "plt.subplots_adjust (top = 0.9)\n",
    "plt.legend(fontsize = 12)"
   ]
  }
 ],
 "metadata": {
  "kernelspec": {
   "display_name": "mlsm",
   "language": "python",
   "name": "mlsm"
  },
  "language_info": {
   "codemirror_mode": {
    "name": "ipython",
    "version": 3
   },
   "file_extension": ".py",
   "mimetype": "text/x-python",
   "name": "python",
   "nbconvert_exporter": "python",
   "pygments_lexer": "ipython3",
   "version": "3.8.5"
  }
 },
 "nbformat": 4,
 "nbformat_minor": 4
}
