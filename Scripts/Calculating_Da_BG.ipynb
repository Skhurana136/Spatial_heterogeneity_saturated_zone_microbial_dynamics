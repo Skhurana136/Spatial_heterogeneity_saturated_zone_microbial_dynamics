{
 "cells": [
  {
   "cell_type": "markdown",
   "metadata": {},
   "source": [
    "# Calculating Damkohler number for the simulations\n",
    "\n",
    "## Calculate characteristic reaction time scales assuming first order rates\n",
    "## Import residence time data\n"
   ]
  },
  {
   "cell_type": "code",
   "execution_count": 1,
   "metadata": {},
   "outputs": [],
   "source": [
    "import os\n",
    "\n",
    "#Import third party libraries\n",
    "import pandas as pd\n",
    "import numpy as np\n",
    "\n",
    "#Import visualization libraries\n",
    "import matplotlib.pyplot as plt\n",
    "import seaborn as sns\n",
    "\n",
    "#Import data science library\n",
    "import data_reader.data_processing as proc\n",
    "import analyses.transient as sta"
   ]
  },
  {
   "cell_type": "code",
   "execution_count": 3,
   "metadata": {},
   "outputs": [],
   "source": [
    "#Load standard values required to navigate through the datasets\n",
    "data_dir = \"E:/Zenodo_spatial_heterogeneity/\"\n",
    "Regimes = [\"Slow\", \"Medium\", \"Fast\"]\n",
    "vels = [0.00038,0.0038,0.038]\n",
    "gw = 1\n",
    "\n",
    "scdict = proc.masterscenarios() #master dictionary of all spatially heterogeneous scenarios that were run\n",
    "ratenames = proc.masterrates(\"saturated\")\n",
    "\n",
    "#Domains\n",
    "Trial = list(t for t,values in scdict.items())\n",
    "#Reactive species of concerns\n",
    "gvarnames = [\"DOC\",\"DO\",\"Ammonium\",\"Nitrate\",\"Nitrogen\",\"TOC\"]"
   ]
  },
  {
   "cell_type": "markdown",
   "metadata": {},
   "source": [
    "### Import residence times/breakthrough times from tracer dataset"
   ]
  },
  {
   "cell_type": "code",
   "execution_count": 4,
   "metadata": {},
   "outputs": [
    {
     "name": "stdout",
     "output_type": "stream",
     "text": [
      "Index(['Trial', 'Variance', 'Anisotropy', 'Regime', 'Chem', 'massflux_in',\n",
      "       'massflux_out', 'delmassflux', 'reldelmassflux', 'normmassflux', 'Time',\n",
      "       'fraction', 'spatial_normmassflux_base', 'spatial_reldelmassflux_base',\n",
      "       'normmassflux_spatial_fraction', 'reldelmassflux_spatial_fraction'],\n",
      "      dtype='object')\n",
      "['Slow' 'Medium' 'Fast']\n"
     ]
    }
   ],
   "source": [
    "chem_path_data = os.path.join(data_dir, \"Results\", \"massflux_comparison_steadystate_BG.csv\")\n",
    "chemdata = pd.read_csv(chem_path_data)\n",
    "print(chemdata.columns)\n",
    "chemdata['Regime'] = chemdata['Regime'].replace({'Equal':'Medium'})\n",
    "print(chemdata.Regime.unique())"
   ]
  },
  {
   "cell_type": "code",
   "execution_count": 5,
   "metadata": {},
   "outputs": [
    {
     "name": "stdout",
     "output_type": "stream",
     "text": [
      "    Trial      Chem  normmassflux_spatial_fraction\n",
      "0       H       DOC                            1.0\n",
      "1       H        DO                            1.0\n",
      "2       H   Nitrate                            1.0\n",
      "3       H  Ammonium                            1.0\n",
      "4       H  Nitrogen                            1.0\n",
      "5       H       TOC                            1.0\n",
      "294     H       DOC                            1.0\n",
      "295     H        DO                            1.0\n",
      "296     H   Nitrate                            1.0\n",
      "297     H  Ammonium                            1.0\n",
      "298     H  Nitrogen                            1.0\n",
      "299     H       TOC                            1.0\n",
      "588     H       DOC                            1.0\n",
      "589     H        DO                            1.0\n",
      "590     H   Nitrate                            1.0\n",
      "591     H  Ammonium                            1.0\n",
      "592     H  Nitrogen                            1.0\n",
      "593     H       TOC                            1.0\n"
     ]
    }
   ],
   "source": [
    "chemdatah = chemdata[chemdata.Trial==\"H\"]\n",
    "print(chemdatah[[\"Trial\",\"Chem\",\"normmassflux_spatial_fraction\"]])"
   ]
  },
  {
   "cell_type": "markdown",
   "metadata": {},
   "source": [
    "### Calculate pseudo first order reaction rate constant\n",
    "- Load the chemican concentration profile at steady state\n",
    "- Identify distance traveled for 63% normalized removal\n",
    "- Ratio of this normalized removal and corresponding travel time is the reaction rate constant"
   ]
  },
  {
   "cell_type": "code",
   "execution_count": 6,
   "metadata": {},
   "outputs": [
    {
     "name": "stdout",
     "output_type": "stream",
     "text": [
      "Slow\n",
      "Medium\n",
      "Fast\n"
     ]
    }
   ],
   "source": [
    "row = []\n",
    "for r in Regimes:\n",
    "    print(r)\n",
    "    if r==\"Medium\":\n",
    "        reg=\"Equal\"\n",
    "    else:\n",
    "        reg=r\n",
    "    for t in Trial:\n",
    "        filename = reg+\"AR_0_NS-A\"+t+\"_df.npy\"\n",
    "        data = np.load(os.path.join(data_dir,\"Data\",filename))\n",
    "        conctime, TotalFlow, Headinlettime = sta.conc_time (data,0,50,0,30, 51, gvarnames,\"Saturated\")\n",
    "        for g in gvarnames:\n",
    "            idx = gvarnames.index(g)\n",
    "            inletconc = conctime[-1, 0, idx]\n",
    "            outletconc = conctime[-1,-1,idx]\n",
    "            normconc = outletconc/inletconc\n",
    "            row.append([r,t,g,inletconc, outletconc, normconc])"
   ]
  },
  {
   "cell_type": "code",
   "execution_count": 7,
   "metadata": {},
   "outputs": [],
   "source": [
    "data = pd.DataFrame.from_records(row, columns = [\"Regime\", \"Trial\", \"Chem\", \"Conc_in\", \"Conc_out\", \"Normconc\"])\n",
    "for Reg in Regimes:\n",
    "    for c in gvarnames:\n",
    "        base = data.loc[(data.Regime == Reg) & (data.Chem == c) & (data.Trial == 'H')]['Normconc'].values[0]\n",
    "        data.loc[(data.Regime == Reg) & (data.Chem == c), 'base'] = base\n",
    "data['rel_normconc'] = data.Normconc/data.base"
   ]
  },
  {
   "cell_type": "code",
   "execution_count": 8,
   "metadata": {},
   "outputs": [
    {
     "name": "stdout",
     "output_type": "stream",
     "text": [
      "                        k\n",
      "Regime Chem              \n",
      "Fast   Ammonium  0.068590\n",
      "       DO        1.255664\n",
      "       DOC       0.206500\n",
      "       Nitrate   0.031839\n",
      "       Nitrogen  0.026442\n",
      "       TOC       0.143979\n",
      "Medium Ammonium  0.012170\n",
      "       DO        0.293545\n",
      "       DOC       0.045650\n",
      "       Nitrate   0.050710\n",
      "       Nitrogen  0.036687\n",
      "       TOC       0.029972\n",
      "Slow   Ammonium  0.001206\n",
      "       DO        0.029889\n",
      "       DOC       0.004954\n",
      "       Nitrate   0.007385\n",
      "       Nitrogen  0.004477\n",
      "       TOC       0.001988\n"
     ]
    }
   ],
   "source": [
    "timedata = pd.merge(data, chemdata, on=['Regime','Trial','Chem'])\n",
    "timedata[\"k\"] = -1*np.log(timedata.Normconc)/timedata.Time\n",
    "print(timedata[[\"Regime\", \"Chem\", \"k\"]].groupby([\"Regime\", \"Chem\"]).mean())"
   ]
  },
  {
   "cell_type": "code",
   "execution_count": 9,
   "metadata": {},
   "outputs": [
    {
     "name": "stdout",
     "output_type": "stream",
     "text": [
      "     Regime Trial      Chem         k  reldelmassflux_spatial_fraction  \\\n",
      "0      Slow     H       DOC  0.004378                              1.0   \n",
      "1      Slow     H        DO  0.026612                              1.0   \n",
      "2      Slow     H  Ammonium  0.001076                              1.0   \n",
      "3      Slow     H   Nitrate  0.006698                              1.0   \n",
      "4      Slow     H  Nitrogen  0.004116                              1.0   \n",
      "5      Slow     H       TOC  0.001926                              1.0   \n",
      "294  Medium     H       DOC  0.034932                              1.0   \n",
      "295  Medium     H        DO  0.216597                              1.0   \n",
      "296  Medium     H  Ammonium  0.009028                              1.0   \n",
      "297  Medium     H   Nitrate  0.044971                              1.0   \n",
      "298  Medium     H  Nitrogen  0.031774                              1.0   \n",
      "299  Medium     H       TOC  0.023279                              1.0   \n",
      "588    Fast     H       DOC  0.154048                              1.0   \n",
      "589    Fast     H        DO  1.716536                              1.0   \n",
      "590    Fast     H  Ammonium  0.050623                              1.0   \n",
      "591    Fast     H   Nitrate  0.004719                              1.0   \n",
      "592    Fast     H  Nitrogen  0.004745                              1.0   \n",
      "593    Fast     H       TOC  0.106393                              1.0   \n",
      "\n",
      "     Normconc  rel_normconc  \n",
      "0    0.407628           1.0  \n",
      "1    0.004273           1.0  \n",
      "2    0.802135           1.0  \n",
      "3    0.253301           1.0  \n",
      "4    0.430100           1.0  \n",
      "5    0.673788           1.0  \n",
      "294  0.434993           1.0  \n",
      "295  0.005733           1.0  \n",
      "296  0.806435           1.0  \n",
      "297  0.342442           1.0  \n",
      "298  0.468991           1.0  \n",
      "299  0.574221           1.0  \n",
      "588  0.688700           1.0  \n",
      "589  0.015674           1.0  \n",
      "590  0.884654           1.0  \n",
      "591  0.988640           1.0  \n",
      "592  0.988579           1.0  \n",
      "593  0.772922           1.0  \n"
     ]
    }
   ],
   "source": [
    "datah = timedata[timedata.Trial==\"H\"]\n",
    "print(datah[[\"Regime\", \"Trial\",\"Chem\", \"k\",\"reldelmassflux_spatial_fraction\",\"Normconc\",\"rel_normconc\"]])"
   ]
  },
  {
   "cell_type": "code",
   "execution_count": 10,
   "metadata": {},
   "outputs": [
    {
     "ename": "AttributeError",
     "evalue": "'DataFrame' object has no attribute 'tau63'",
     "output_type": "error",
     "traceback": [
      "\u001b[1;31m---------------------------------------------------------------------------\u001b[0m",
      "\u001b[1;31mAttributeError\u001b[0m                            Traceback (most recent call last)",
      "\u001b[1;32m<ipython-input-10-5d6d9ada4abc>\u001b[0m in \u001b[0;36m<module>\u001b[1;34m\u001b[0m\n\u001b[0;32m     27\u001b[0m \u001b[0mselected_k\u001b[0m \u001b[1;33m=\u001b[0m \u001b[1;34m\"k\"\u001b[0m\u001b[1;33m\u001b[0m\u001b[1;33m\u001b[0m\u001b[0m\n\u001b[0;32m     28\u001b[0m \u001b[0mtimedata\u001b[0m\u001b[1;33m[\u001b[0m\u001b[1;34m\"tau\"\u001b[0m\u001b[1;33m]\u001b[0m \u001b[1;33m=\u001b[0m \u001b[1;33m-\u001b[0m\u001b[0mnp\u001b[0m\u001b[1;33m.\u001b[0m\u001b[0mlog\u001b[0m\u001b[1;33m(\u001b[0m\u001b[1;36m0.37\u001b[0m\u001b[1;33m)\u001b[0m\u001b[1;33m/\u001b[0m\u001b[0mtimedata\u001b[0m\u001b[1;33m[\u001b[0m\u001b[0mselected_k\u001b[0m\u001b[1;33m]\u001b[0m\u001b[1;33m.\u001b[0m\u001b[0mastype\u001b[0m\u001b[1;33m(\u001b[0m\u001b[0mfloat\u001b[0m\u001b[1;33m)\u001b[0m\u001b[1;33m\u001b[0m\u001b[1;33m\u001b[0m\u001b[0m\n\u001b[1;32m---> 29\u001b[1;33m \u001b[0mtimedata\u001b[0m\u001b[1;33m[\u001b[0m\u001b[1;34m\"Da\"\u001b[0m\u001b[1;33m]\u001b[0m \u001b[1;33m=\u001b[0m \u001b[0mtimedata\u001b[0m\u001b[1;33m.\u001b[0m\u001b[0mTime\u001b[0m\u001b[1;33m/\u001b[0m\u001b[0mtimedata\u001b[0m\u001b[1;33m.\u001b[0m\u001b[0mtau63\u001b[0m\u001b[1;33m\u001b[0m\u001b[1;33m\u001b[0m\u001b[0m\n\u001b[0m",
      "\u001b[1;32m~\\Anaconda3\\envs\\mlsm\\lib\\site-packages\\pandas\\core\\generic.py\u001b[0m in \u001b[0;36m__getattr__\u001b[1;34m(self, name)\u001b[0m\n\u001b[0;32m   5137\u001b[0m             \u001b[1;32mif\u001b[0m \u001b[0mself\u001b[0m\u001b[1;33m.\u001b[0m\u001b[0m_info_axis\u001b[0m\u001b[1;33m.\u001b[0m\u001b[0m_can_hold_identifiers_and_holds_name\u001b[0m\u001b[1;33m(\u001b[0m\u001b[0mname\u001b[0m\u001b[1;33m)\u001b[0m\u001b[1;33m:\u001b[0m\u001b[1;33m\u001b[0m\u001b[1;33m\u001b[0m\u001b[0m\n\u001b[0;32m   5138\u001b[0m                 \u001b[1;32mreturn\u001b[0m \u001b[0mself\u001b[0m\u001b[1;33m[\u001b[0m\u001b[0mname\u001b[0m\u001b[1;33m]\u001b[0m\u001b[1;33m\u001b[0m\u001b[1;33m\u001b[0m\u001b[0m\n\u001b[1;32m-> 5139\u001b[1;33m             \u001b[1;32mreturn\u001b[0m \u001b[0mobject\u001b[0m\u001b[1;33m.\u001b[0m\u001b[0m__getattribute__\u001b[0m\u001b[1;33m(\u001b[0m\u001b[0mself\u001b[0m\u001b[1;33m,\u001b[0m \u001b[0mname\u001b[0m\u001b[1;33m)\u001b[0m\u001b[1;33m\u001b[0m\u001b[1;33m\u001b[0m\u001b[0m\n\u001b[0m\u001b[0;32m   5140\u001b[0m \u001b[1;33m\u001b[0m\u001b[0m\n\u001b[0;32m   5141\u001b[0m     \u001b[1;32mdef\u001b[0m \u001b[0m__setattr__\u001b[0m\u001b[1;33m(\u001b[0m\u001b[0mself\u001b[0m\u001b[1;33m,\u001b[0m \u001b[0mname\u001b[0m\u001b[1;33m:\u001b[0m \u001b[0mstr\u001b[0m\u001b[1;33m,\u001b[0m \u001b[0mvalue\u001b[0m\u001b[1;33m)\u001b[0m \u001b[1;33m->\u001b[0m \u001b[1;32mNone\u001b[0m\u001b[1;33m:\u001b[0m\u001b[1;33m\u001b[0m\u001b[1;33m\u001b[0m\u001b[0m\n",
      "\u001b[1;31mAttributeError\u001b[0m: 'DataFrame' object has no attribute 'tau63'"
     ]
    }
   ],
   "source": [
    "thresh = 0.05\n",
    "steps = [500 * 0.005, 2 * 0.005, 2 * 0.0005]\n",
    "nc = timedata[timedata[\"Normconc\"] < thresh].index\n",
    "for n in nc:\n",
    "    r = timedata.iloc[n][\"Regime\"]\n",
    "    r = reg\n",
    "    if r==\"Medium\":\n",
    "        reg=\"Equal\"\n",
    "    t = timedata.iloc[n][\"Trial\"]\n",
    "    g = timedata.iloc[n][\"Chem\"]\n",
    "    inletconc = timedata.iloc[n][\"Conc_in\"]\n",
    "    filename = reg+\"AR_0_NS-A\"+t+\"_df.npy\"\n",
    "    concdata = np.load(os.path.join(data_dir, \"Data\",filename))\n",
    "    conctime, TotalFlow, Headinlettime = sta.conc_time (concdata,0,50,0,30, 51, [g],\"Saturated\")        \n",
    "    tracer_dir = \"X:/Saturated_flow/Steady_state/Tracer_studies/\" + Reg + \"AR/NS-A\"+t+\"/\"\n",
    "    tracerfile = \"NS-A\"+t+\"_df.npy\"\n",
    "    tracerdata = np.load(os.path.join(tracer_dir,tracerfile))\n",
    "    tracertime, TracerFlow, TracerHeadinlettime = sta.conc_time (tracerdata,0,50,0,30, 51, [\"Tracer_study\"],\"Saturated\")            \n",
    "    idx5 = np.where(conctime[-1, :, 0]<thresh*inletconc)[0]\n",
    "    if idx5.size != 0:\n",
    "        point = idx5[0]\n",
    "        loss = conctime[-1, point, 0]/inletconc\n",
    "        timidx = np.where(np.round(tracertime[:, point, 0], 3) > 10)\n",
    "        tim = steps[Regimes.index(r)] * timidx[0][0]\n",
    "        k = -1*np.log(loss)/tim\n",
    "        timedata.iloc[n, timedata.columns.get_loc(\"k\")] = k\n",
    "selected_k = \"k\"\n",
    "timedata[\"tau\"] = -np.log(0.37)/timedata[selected_k].astype(float)"
   ]
  },
  {
   "cell_type": "code",
   "execution_count": 11,
   "metadata": {},
   "outputs": [],
   "source": [
    "timedata[\"Da\"] = timedata.Time/timedata.tau\n",
    "timedata.to_csv(os.path.join(data_dir, \"Results\", \"Da_BG.csv\"))"
   ]
  }
 ],
 "metadata": {
  "kernelspec": {
   "display_name": "mlsm",
   "language": "python",
   "name": "mlsm"
  },
  "language_info": {
   "codemirror_mode": {
    "name": "ipython",
    "version": 3
   },
   "file_extension": ".py",
   "mimetype": "text/x-python",
   "name": "python",
   "nbconvert_exporter": "python",
   "pygments_lexer": "ipython3",
   "version": "3.8.5"
  }
 },
 "nbformat": 4,
 "nbformat_minor": 4
}
